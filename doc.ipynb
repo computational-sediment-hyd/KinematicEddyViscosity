{
 "cells": [
  {
   "cell_type": "markdown",
   "id": "ea0a9cb4-7581-4a47-a9cd-c6c84dcac69c",
   "metadata": {},
   "source": [
    "# 実河川における渦動粘性係数について"
   ]
  },
  {
   "cell_type": "markdown",
   "id": "edf2c52a-f0dd-4abb-8258-e8f5367a5fdf",
   "metadata": {},
   "source": [
    "## 渦動粘性モデルについて"
   ]
  },
  {
   "cell_type": "markdown",
   "id": "3a4c247c-e345-43c2-8dfe-580a2b0295f5",
   "metadata": {},
   "source": [
    "渦動粘性モデルを用いたX方向のレイノルズ方程式は以下のとおりである。"
   ]
  },
  {
   "cell_type": "markdown",
   "id": "1acd8306-1a21-4ef2-9a89-4bd31eeb0f24",
   "metadata": {},
   "source": [
    "$$\n",
    "\\begin{align}\n",
    "\\frac{\\partial \\bar{u}}{\\partial t} & +\\frac{\\partial \\bar{u}^2}{\\partial x}+\\frac{\\partial \\bar{u} \\bar{v}}{\\partial y}+\\frac{\\partial \\bar{u} \\bar{w}}{\\partial z} \\\\\n",
    "= & X-\\frac{1}{\\rho} \\frac{\\partial \\bar{p}}{\\partial x}+\\frac{\\partial}{\\partial x}\\left(\\left(\\nu+\\nu_{t}\\right) \\frac{\\partial \\bar{u}}{\\partial x}\\right) \\\\\n",
    "& +\\frac{\\partial}{\\partial y}\\left(\\left(\\nu+\\nu_{t}\\right) \\frac{\\partial \\bar{u}}{\\partial y}\\right)+\\frac{\\partial}{\\partial z}\\left(\\left(\\nu+\\nu_{t}\\right) \\frac{\\partial \\bar{u}}{\\partial z}\\right)\n",
    "\\end{align}\n",
    "$$"
   ]
  },
  {
   "attachments": {},
   "cell_type": "markdown",
   "id": "b7de740a-6c01-46f0-bf35-87a4e88e34c2",
   "metadata": {},
   "source": [
    "ここに、$\\nu$:動粘性係数  $\\nu_t$：渦動粘性係数とする。$\\nu \\ll \\nu_t$のため、$\\nu+\\nu_t \\fallingdotseq \\nu_t$とすることが一般的である。\n",
    "\n",
    "\n",
    "レイノルズ応力は以下のように定義している。"
   ]
  },
  {
   "cell_type": "markdown",
   "id": "811848e1-ac57-40b0-ba3b-34a17cf58aa1",
   "metadata": {},
   "source": [
    "$$\n",
    "\\begin{align}\n",
    "-\\overline{u^{\\prime} u^{\\prime}} & =\\nu_{t} \\left(\\frac{\\partial \\bar{u}}{\\partial x}+\\frac{\\partial \\bar{u}}{\\partial x}\\right) \\\\\n",
    "-\\overline{u^{\\prime} v^{\\prime}} & =\\nu_{t} \\left(\\frac{\\partial \\bar{u}}{\\partial y}+\\frac{\\partial \\bar{v}}{\\partial x}\\right) \\\\\n",
    "-\\overline{u^{\\prime} w^{\\prime}} & =\\nu_{t} \\left(\\frac{\\partial \\bar{u}}{\\partial z}+\\frac{\\partial \\bar{w}}{\\partial x}\\right)\n",
    "\\end{align}\n",
    "$$\n",
    "\n",
    "\n",
    "$$\n",
    "\\begin{align}\n",
    "-\\frac{\\partial \\overline{u^{\\prime} u^{\\prime}}}{\\partial x} & =\\frac{\\partial}{\\partial x}\\left(\\nu_{t} \\frac{\\partial \\bar{u}}{\\partial x}\\right)+\\frac{\\partial}{\\partial x}\\left(\\nu_{t} \\frac{\\partial \\bar{u}}{\\partial x}\\right) \\\\\n",
    "-\\frac{\\partial \\overline{u^{\\prime} v^{\\prime}}}{\\partial y} & =\\frac{\\partial}{\\partial y}\\left(\\nu_{t} \\frac{\\partial \\bar{u}}{\\partial y}\\right)+\\frac{\\partial}{\\partial y}\\left(\\nu_{t} \\frac{\\partial \\bar{v}}{\\partial x}\\right) \\\\\n",
    "-\\frac{\\partial \\overline{u^{\\prime} w^{\\prime}}}{\\partial z} & =\\frac{\\partial}{\\partial z}\\left(\\nu_{t} \\frac{\\partial \\bar{u}}{\\partial z}\\right)+\\frac{\\partial}{\\partial z}\\left(\\nu_{t} \\frac{\\partial \\bar{w}}{\\partial x}\\right)\n",
    "\\end{align}\n",
    "$$"
   ]
  },
  {
   "cell_type": "markdown",
   "id": "ead460df-c77c-4afe-b136-a7552d0bd891",
   "metadata": {},
   "source": [
    "渦動粘性係数$\\nu_t$は定数ではなく、時空間分布を持つ。実河川における分布特性について次項以降に示す。"
   ]
  },
  {
   "cell_type": "markdown",
   "id": "9485f20c-70e2-426c-af8e-efe8cd0ae5e5",
   "metadata": {},
   "source": [
    "## 鉛直方向の渦動粘性係数の分布"
   ]
  },
  {
   "attachments": {},
   "cell_type": "markdown",
   "id": "cb178f77-24a6-4d68-9c04-90cfc53a1b8f",
   "metadata": {},
   "source": [
    "鉛直方向の渦粘性係数については、多くの研究成果がある。\n",
    "\n",
    "鉛直方向の流速分布について対数則を仮定すると、渦粘性係数の鉛直分布は下式のとおりとなる。\n",
    "\n",
    "$$\n",
    "\\begin{align}\n",
    "     \\nu_{tz} = u_* \\kappa z \\left(1-\\dfrac{z}{h}\\right)\n",
    "\\end{align}\n",
    "$$\n",
    "\n",
    "また、上式を水深平均すると下式が得られる。\n",
    "\n",
    "$$\n",
    "\\begin{align}\n",
    "     \\overline{\\nu_{tz}} = \\dfrac{1}{h} \\int^h_0 u_* \\kappa z \\left(1-\\dfrac{z}{h}\\right) dz = \\dfrac{1}{6} \\kappa u_* h\n",
    "\\end{align}\n",
    "$$\n",
    "\n",
    "本式は浅水流近似式（サンブナンの式）でよく用いられる。\n",
    "\n",
    "[禰津ら](https://repository.kulib.kyoto-u.ac.jp/dspace/bitstream/2433/281348/1/mfeku_49_2_111.pdf)[^1]によると、本式は実験結果とよく一致している。\n"
   ]
  },
  {
   "cell_type": "markdown",
   "id": "15332379-8158-45ea-b0ae-219f183df179",
   "metadata": {},
   "source": [
    "![A](https://computational-sediment-hyd.github.io/KinematicEddyViscosity/figure/nezu01.png)"
   ]
  },
  {
   "cell_type": "markdown",
   "id": "e0050b1a-14c5-4cde-99e5-7ecd6b45743d",
   "metadata": {},
   "source": [
    "鉛直方向の渦動粘性係数は、最大で水深と摩擦速度の積の0.1倍程度となる。"
   ]
  },
  {
   "cell_type": "markdown",
   "id": "9732594a-a4d5-4694-b464-fc9e7fb1b049",
   "metadata": {},
   "source": [
    "## 横断方向（川幅方向）の渦動粘性係数の分布\n",
    "\n",
    "横断方向（川幅方向）の渦動粘性係数については研究成果がそれほど多くはない。\n",
    "\n",
    "代表的な成果として、[細田](https://core.ac.uk/download/pdf/39207339.pdf)[^2]からの引用を示す。\n",
    "\n",
    "下図は、壁面の影響を受けない範囲での乱流拡散係数と川幅水深比の関係を示したものである。\n",
    "粗面の場合、乱流拡散係数と水深×摩擦速度の比は、0.1～0.2程度となることが確認できる。\n",
    "\n",
    "渦動粘性係数と乱流拡散係数の比（乱流シュミット数）を1と考えると、横断方向の渦動粘性係数は、鉛直方向の渦動粘性係数の1～2倍程度となる。"
   ]
  },
  {
   "cell_type": "markdown",
   "id": "392315a8-0dce-4b29-930c-f91681511080",
   "metadata": {},
   "source": [
    "![A](https://computational-sediment-hyd.github.io/KinematicEddyViscosity/figure/hosoda01.png)"
   ]
  },
  {
   "cell_type": "markdown",
   "id": "1a93e31c-ca59-4b12-9040-03aca49c70ec",
   "metadata": {},
   "source": [
    "## 流下方向の渦動粘性係数の分布\n",
    "\n",
    "流下方向の渦動粘性係数については研究成果がそれほど多くはない。\n",
    "\n",
    "[綾](http://library.jsce.or.jp/jsce/open/00027/1992/28-A04.pdf)[^3]によると、乱流拡散係数と川幅水深比を下図に示す。\n",
    "乱流拡散係数は川幅水深比に影響を受けることが確認できる。\n",
    "また、横断方向と比較すると10の4乗程度大きくなっている。\n"
   ]
  },
  {
   "cell_type": "markdown",
   "id": "2765d6d8-d545-43e7-9933-ff6854b82681",
   "metadata": {},
   "source": [
    "![A](https://computational-sediment-hyd.github.io/KinematicEddyViscosity/figure/aya01.png)"
   ]
  },
  {
   "cell_type": "markdown",
   "id": "fa8adfdc-701c-4ee3-b131-ddd3a31478c8",
   "metadata": {},
   "source": [
    "[Zengら](https://www.sciencedirect.com/science/article/abs/pii/S157064431300083X)[^4]による海外河川での整理結果でも同様の傾向を示している。"
   ]
  },
  {
   "cell_type": "markdown",
   "id": "8457672a-3a37-435d-bbb5-ba027dfbee7f",
   "metadata": {},
   "source": [
    "![A](https://computational-sediment-hyd.github.io/KinematicEddyViscosity/figure/zeng01.png)\n",
    "![A](https://computational-sediment-hyd.github.io/KinematicEddyViscosity/figure/zeng02.png)"
   ]
  },
  {
   "cell_type": "markdown",
   "id": "07717aa1-6971-4d5f-9c06-ece5af9e75d1",
   "metadata": {},
   "source": [
    "渦動粘性係数と乱流拡散係数の比（乱流シュミット数）を1と考えると、横断方向の渦動粘性係数は、鉛直方向の渦動粘性係数の10の4乗倍程度となる。"
   ]
  },
  {
   "attachments": {},
   "cell_type": "markdown",
   "id": "6cc74652-ed4e-495b-8284-a28269e7c440",
   "metadata": {},
   "source": [
    "## 参考文献\n",
    "\n",
    "[^1]:[Nezu, I. & Nakagawa, H.(1986) Numerical Calculation of Turbulent Open-Channel Flows in Consideration of Free-Surface Effect, 京都大学防災研究所年報](https://repository.kulib.kyoto-u.ac.jp/dspace/bitstream/2433/281348/1/mfeku_49_2_111.pdf)\n",
    "\n",
    "[^2]:[細田 尚 (1990) 開水路流れにおける乱流拡散機構に関する水理学的研究, 京都大学防災研究所年報](https://core.ac.uk/download/pdf/39207339.pdf)\n",
    "\n",
    "[^3]:[綾 史郎 (1992) 河川における物質混合とその解析, 第28回水工学に関する夏期研修会講義集Aコース](http://library.jsce.or.jp/jsce/open/00027/1992/28-A04.pdf)\n",
    "\n",
    "[^4]:[Y. Zeng & W. Huai (2014) Estimation of longitudinal dispersion coefficient in rivers, Journal of Hydro-environment Research](https://www.sciencedirect.com/science/article/abs/pii/S157064431300083X)\n"
   ]
  }
 ],
 "metadata": {
  "kernelspec": {
   "display_name": "Python 3 (ipykernel)",
   "language": "python",
   "name": "python3"
  },
  "language_info": {
   "codemirror_mode": {
    "name": "ipython",
    "version": 3
   },
   "file_extension": ".py",
   "mimetype": "text/x-python",
   "name": "python",
   "nbconvert_exporter": "python",
   "pygments_lexer": "ipython3",
   "version": "3.12.3"
  }
 },
 "nbformat": 4,
 "nbformat_minor": 5
}
